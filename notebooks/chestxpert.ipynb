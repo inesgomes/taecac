{
 "cells": [
  {
   "cell_type": "code",
   "execution_count": 23,
   "metadata": {},
   "outputs": [],
   "source": [
    "import pandas as pd"
   ]
  },
  {
   "cell_type": "code",
   "execution_count": 24,
   "metadata": {},
   "outputs": [],
   "source": [
    "df_train = pd.read_csv(\"../data/chestxpert/train.csv\")"
   ]
  },
  {
   "cell_type": "code",
   "execution_count": 25,
   "metadata": {},
   "outputs": [
    {
     "name": "stdout",
     "output_type": "stream",
     "text": [
      "number of patients 223,414\n",
      "healthy 22,381.0\n"
     ]
    }
   ],
   "source": [
    "print(f\"number of patients {df_train.shape[0]:,}\")\n",
    "print(f\"healthy {df_train['No Finding'].sum():,}\")"
   ]
  },
  {
   "cell_type": "code",
   "execution_count": 26,
   "metadata": {},
   "outputs": [
    {
     "data": {
      "text/html": [
       "<div>\n",
       "<style scoped>\n",
       "    .dataframe tbody tr th:only-of-type {\n",
       "        vertical-align: middle;\n",
       "    }\n",
       "\n",
       "    .dataframe tbody tr th {\n",
       "        vertical-align: top;\n",
       "    }\n",
       "\n",
       "    .dataframe thead th {\n",
       "        text-align: right;\n",
       "    }\n",
       "</style>\n",
       "<table border=\"1\" class=\"dataframe\">\n",
       "  <thead>\n",
       "    <tr style=\"text-align: right;\">\n",
       "      <th></th>\n",
       "      <th>Age</th>\n",
       "      <th>No Finding</th>\n",
       "      <th>Enlarged Cardiomediastinum</th>\n",
       "      <th>Cardiomegaly</th>\n",
       "      <th>Lung Opacity</th>\n",
       "      <th>Lung Lesion</th>\n",
       "      <th>Edema</th>\n",
       "      <th>Consolidation</th>\n",
       "      <th>Pneumonia</th>\n",
       "      <th>Atelectasis</th>\n",
       "      <th>Pneumothorax</th>\n",
       "      <th>Pleural Effusion</th>\n",
       "      <th>Pleural Other</th>\n",
       "      <th>Fracture</th>\n",
       "      <th>Support Devices</th>\n",
       "    </tr>\n",
       "  </thead>\n",
       "  <tbody>\n",
       "    <tr>\n",
       "      <th>count</th>\n",
       "      <td>223414.000000</td>\n",
       "      <td>22381.0</td>\n",
       "      <td>44839.000000</td>\n",
       "      <td>46203.000000</td>\n",
       "      <td>117778.000000</td>\n",
       "      <td>11944.000000</td>\n",
       "      <td>85956.000000</td>\n",
       "      <td>70622.000000</td>\n",
       "      <td>27608.000000</td>\n",
       "      <td>68443.000000</td>\n",
       "      <td>78934.000000</td>\n",
       "      <td>133211.000000</td>\n",
       "      <td>6492.000000</td>\n",
       "      <td>12194.000000</td>\n",
       "      <td>123217.000000</td>\n",
       "    </tr>\n",
       "    <tr>\n",
       "      <th>mean</th>\n",
       "      <td>60.430653</td>\n",
       "      <td>1.0</td>\n",
       "      <td>-0.035795</td>\n",
       "      <td>0.409346</td>\n",
       "      <td>0.848911</td>\n",
       "      <td>0.644508</td>\n",
       "      <td>0.456769</td>\n",
       "      <td>-0.183498</td>\n",
       "      <td>-0.461134</td>\n",
       "      <td>-0.005304</td>\n",
       "      <td>0.206540</td>\n",
       "      <td>0.559706</td>\n",
       "      <td>0.134011</td>\n",
       "      <td>0.688699</td>\n",
       "      <td>0.932680</td>\n",
       "    </tr>\n",
       "    <tr>\n",
       "      <th>std</th>\n",
       "      <td>17.820925</td>\n",
       "      <td>0.0</td>\n",
       "      <td>0.718442</td>\n",
       "      <td>0.769323</td>\n",
       "      <td>0.472571</td>\n",
       "      <td>0.691607</td>\n",
       "      <td>0.741785</td>\n",
       "      <td>0.753980</td>\n",
       "      <td>0.828249</td>\n",
       "      <td>0.990244</td>\n",
       "      <td>0.493529</td>\n",
       "      <td>0.648859</td>\n",
       "      <td>0.966183</td>\n",
       "      <td>0.565435</td>\n",
       "      <td>0.283377</td>\n",
       "    </tr>\n",
       "    <tr>\n",
       "      <th>min</th>\n",
       "      <td>0.000000</td>\n",
       "      <td>1.0</td>\n",
       "      <td>-1.000000</td>\n",
       "      <td>-1.000000</td>\n",
       "      <td>-1.000000</td>\n",
       "      <td>-1.000000</td>\n",
       "      <td>-1.000000</td>\n",
       "      <td>-1.000000</td>\n",
       "      <td>-1.000000</td>\n",
       "      <td>-1.000000</td>\n",
       "      <td>-1.000000</td>\n",
       "      <td>-1.000000</td>\n",
       "      <td>-1.000000</td>\n",
       "      <td>-1.000000</td>\n",
       "      <td>-1.000000</td>\n",
       "    </tr>\n",
       "    <tr>\n",
       "      <th>25%</th>\n",
       "      <td>49.000000</td>\n",
       "      <td>1.0</td>\n",
       "      <td>-1.000000</td>\n",
       "      <td>0.000000</td>\n",
       "      <td>1.000000</td>\n",
       "      <td>1.000000</td>\n",
       "      <td>0.000000</td>\n",
       "      <td>-1.000000</td>\n",
       "      <td>-1.000000</td>\n",
       "      <td>-1.000000</td>\n",
       "      <td>0.000000</td>\n",
       "      <td>0.000000</td>\n",
       "      <td>-1.000000</td>\n",
       "      <td>0.000000</td>\n",
       "      <td>1.000000</td>\n",
       "    </tr>\n",
       "    <tr>\n",
       "      <th>50%</th>\n",
       "      <td>62.000000</td>\n",
       "      <td>1.0</td>\n",
       "      <td>0.000000</td>\n",
       "      <td>1.000000</td>\n",
       "      <td>1.000000</td>\n",
       "      <td>1.000000</td>\n",
       "      <td>1.000000</td>\n",
       "      <td>0.000000</td>\n",
       "      <td>-1.000000</td>\n",
       "      <td>0.000000</td>\n",
       "      <td>0.000000</td>\n",
       "      <td>1.000000</td>\n",
       "      <td>1.000000</td>\n",
       "      <td>1.000000</td>\n",
       "      <td>1.000000</td>\n",
       "    </tr>\n",
       "    <tr>\n",
       "      <th>75%</th>\n",
       "      <td>74.000000</td>\n",
       "      <td>1.0</td>\n",
       "      <td>0.000000</td>\n",
       "      <td>1.000000</td>\n",
       "      <td>1.000000</td>\n",
       "      <td>1.000000</td>\n",
       "      <td>1.000000</td>\n",
       "      <td>0.000000</td>\n",
       "      <td>0.000000</td>\n",
       "      <td>1.000000</td>\n",
       "      <td>0.000000</td>\n",
       "      <td>1.000000</td>\n",
       "      <td>1.000000</td>\n",
       "      <td>1.000000</td>\n",
       "      <td>1.000000</td>\n",
       "    </tr>\n",
       "    <tr>\n",
       "      <th>max</th>\n",
       "      <td>90.000000</td>\n",
       "      <td>1.0</td>\n",
       "      <td>1.000000</td>\n",
       "      <td>1.000000</td>\n",
       "      <td>1.000000</td>\n",
       "      <td>1.000000</td>\n",
       "      <td>1.000000</td>\n",
       "      <td>1.000000</td>\n",
       "      <td>1.000000</td>\n",
       "      <td>1.000000</td>\n",
       "      <td>1.000000</td>\n",
       "      <td>1.000000</td>\n",
       "      <td>1.000000</td>\n",
       "      <td>1.000000</td>\n",
       "      <td>1.000000</td>\n",
       "    </tr>\n",
       "  </tbody>\n",
       "</table>\n",
       "</div>"
      ],
      "text/plain": [
       "                 Age  No Finding  Enlarged Cardiomediastinum  Cardiomegaly  \\\n",
       "count  223414.000000     22381.0                44839.000000  46203.000000   \n",
       "mean       60.430653         1.0                   -0.035795      0.409346   \n",
       "std        17.820925         0.0                    0.718442      0.769323   \n",
       "min         0.000000         1.0                   -1.000000     -1.000000   \n",
       "25%        49.000000         1.0                   -1.000000      0.000000   \n",
       "50%        62.000000         1.0                    0.000000      1.000000   \n",
       "75%        74.000000         1.0                    0.000000      1.000000   \n",
       "max        90.000000         1.0                    1.000000      1.000000   \n",
       "\n",
       "        Lung Opacity   Lung Lesion         Edema  Consolidation     Pneumonia  \\\n",
       "count  117778.000000  11944.000000  85956.000000   70622.000000  27608.000000   \n",
       "mean        0.848911      0.644508      0.456769      -0.183498     -0.461134   \n",
       "std         0.472571      0.691607      0.741785       0.753980      0.828249   \n",
       "min        -1.000000     -1.000000     -1.000000      -1.000000     -1.000000   \n",
       "25%         1.000000      1.000000      0.000000      -1.000000     -1.000000   \n",
       "50%         1.000000      1.000000      1.000000       0.000000     -1.000000   \n",
       "75%         1.000000      1.000000      1.000000       0.000000      0.000000   \n",
       "max         1.000000      1.000000      1.000000       1.000000      1.000000   \n",
       "\n",
       "        Atelectasis  Pneumothorax  Pleural Effusion  Pleural Other  \\\n",
       "count  68443.000000  78934.000000     133211.000000    6492.000000   \n",
       "mean      -0.005304      0.206540          0.559706       0.134011   \n",
       "std        0.990244      0.493529          0.648859       0.966183   \n",
       "min       -1.000000     -1.000000         -1.000000      -1.000000   \n",
       "25%       -1.000000      0.000000          0.000000      -1.000000   \n",
       "50%        0.000000      0.000000          1.000000       1.000000   \n",
       "75%        1.000000      0.000000          1.000000       1.000000   \n",
       "max        1.000000      1.000000          1.000000       1.000000   \n",
       "\n",
       "           Fracture  Support Devices  \n",
       "count  12194.000000    123217.000000  \n",
       "mean       0.688699         0.932680  \n",
       "std        0.565435         0.283377  \n",
       "min       -1.000000        -1.000000  \n",
       "25%        0.000000         1.000000  \n",
       "50%        1.000000         1.000000  \n",
       "75%        1.000000         1.000000  \n",
       "max        1.000000         1.000000  "
      ]
     },
     "execution_count": 26,
     "metadata": {},
     "output_type": "execute_result"
    }
   ],
   "source": [
    "df_train.describe()"
   ]
  },
  {
   "cell_type": "code",
   "execution_count": 27,
   "metadata": {},
   "outputs": [
    {
     "name": "stdout",
     "output_type": "stream",
     "text": [
      "Removed uncertain cases: 138,358\n"
     ]
    }
   ],
   "source": [
    "# drop all rows with -1 in any column\n",
    "mask = (df_train[df_train == -1].sum(axis=1)==0)\n",
    "df_certain = df_train[mask]\n",
    "\n",
    "print(f\"Removed uncertain cases: {df_certain.shape[0]:,}\",)"
   ]
  },
  {
   "cell_type": "code",
   "execution_count": 28,
   "metadata": {},
   "outputs": [
    {
     "name": "stdout",
     "output_type": "stream",
     "text": [
      "Only frontal x-rays: 118,286\n"
     ]
    }
   ],
   "source": [
    "# only frontal x-rays\n",
    "df_frontal = df_certain[df_certain[\"Frontal/Lateral\"] == \"Frontal\"]\n",
    "\n",
    "print(f\"Only frontal x-rays: {df_frontal.shape[0]:,}\",)"
   ]
  },
  {
   "cell_type": "code",
   "execution_count": 35,
   "metadata": {},
   "outputs": [
    {
     "name": "stdout",
     "output_type": "stream",
     "text": [
      "Number of patients with only one problem: 44,757\n"
     ]
    }
   ],
   "source": [
    "# only one problem detected\n",
    "mask = df_frontal[df_frontal.columns[5:-1]].sum(axis=1)==1\n",
    "df_one_target = df_frontal[mask]\n",
    "\n",
    "print(f\"Number of patients with only one problem: {df_one_target.shape[0]:,}\",)"
   ]
  },
  {
   "cell_type": "code",
   "execution_count": 36,
   "metadata": {},
   "outputs": [
    {
     "data": {
      "text/plain": [
       "No Finding                    16895.0\n",
       "Enlarged Cardiomediastinum     1203.0\n",
       "Cardiomegaly                   2014.0\n",
       "Lung Opacity                   4193.0\n",
       "Lung Lesion                     777.0\n",
       "Edema                          4949.0\n",
       "Consolidation                  1107.0\n",
       "Pneumonia                       361.0\n",
       "Atelectasis                    2686.0\n",
       "Pneumothorax                   4033.0\n",
       "Pleural Effusion               4770.0\n",
       "Pleural Other                   256.0\n",
       "Fracture                       1513.0\n",
       "dtype: float64"
      ]
     },
     "execution_count": 36,
     "metadata": {},
     "output_type": "execute_result"
    }
   ],
   "source": [
    "df_one_target[df_one_target.columns[5:-1]].sum(axis=0)"
   ]
  },
  {
   "cell_type": "code",
   "execution_count": 40,
   "metadata": {},
   "outputs": [
    {
     "data": {
      "text/plain": [
       "No Finding                    37.748285\n",
       "Enlarged Cardiomediastinum     2.687848\n",
       "Cardiomegaly                   4.499855\n",
       "Lung Opacity                   9.368367\n",
       "Lung Lesion                    1.736041\n",
       "Edema                         11.057488\n",
       "Consolidation                  2.473356\n",
       "Pneumonia                      0.806578\n",
       "Atelectasis                    6.001296\n",
       "Pneumothorax                   9.010881\n",
       "Pleural Effusion              10.657551\n",
       "Pleural Other                  0.571978\n",
       "Fracture                       3.380477\n",
       "dtype: float64"
      ]
     },
     "execution_count": 40,
     "metadata": {},
     "output_type": "execute_result"
    }
   ],
   "source": [
    "df_one_target[df_one_target.columns[5:-1]].sum(axis=0)*100/df_one_target.shape[0]"
   ]
  },
  {
   "cell_type": "code",
   "execution_count": 50,
   "metadata": {},
   "outputs": [],
   "source": [
    "# TODO: remove patients with \"No Finding\" as only finding\n",
    "df_nofindings = df_one_target[df_one_target[\"No Finding\"] != 1]"
   ]
  },
  {
   "cell_type": "code",
   "execution_count": 52,
   "metadata": {},
   "outputs": [
    {
     "name": "stderr",
     "output_type": "stream",
     "text": [
      "/var/folders/lh/myds7z711nngnwhfjtgt0bxh0000gn/T/ipykernel_2562/3778325823.py:2: SettingWithCopyWarning: \n",
      "A value is trying to be set on a copy of a slice from a DataFrame.\n",
      "Try using .loc[row_indexer,col_indexer] = value instead\n",
      "\n",
      "See the caveats in the documentation: https://pandas.pydata.org/pandas-docs/stable/user_guide/indexing.html#returning-a-view-versus-a-copy\n",
      "  df_nofindings[\"target\"] = df_nofindings[df_nofindings.columns[5:-1]].apply(lambda x: x[x==1].index.tolist()[0], axis=1)\n"
     ]
    }
   ],
   "source": [
    "# create target\n",
    "df_nofindings[\"target\"] = df_nofindings[df_nofindings.columns[5:-1]].apply(lambda x: x[x==1].index.tolist()[0], axis=1)"
   ]
  },
  {
   "cell_type": "code",
   "execution_count": 57,
   "metadata": {},
   "outputs": [
    {
     "data": {
      "text/html": [
       "<div>\n",
       "<style scoped>\n",
       "    .dataframe tbody tr th:only-of-type {\n",
       "        vertical-align: middle;\n",
       "    }\n",
       "\n",
       "    .dataframe tbody tr th {\n",
       "        vertical-align: top;\n",
       "    }\n",
       "\n",
       "    .dataframe thead th {\n",
       "        text-align: right;\n",
       "    }\n",
       "</style>\n",
       "<table border=\"1\" class=\"dataframe\">\n",
       "  <thead>\n",
       "    <tr style=\"text-align: right;\">\n",
       "      <th></th>\n",
       "      <th>Path</th>\n",
       "      <th>Sex</th>\n",
       "      <th>Age</th>\n",
       "      <th>AP/PA</th>\n",
       "      <th>Support Devices</th>\n",
       "      <th>target</th>\n",
       "    </tr>\n",
       "  </thead>\n",
       "  <tbody>\n",
       "    <tr>\n",
       "      <th>4</th>\n",
       "      <td>CheXpert-v1.0-small/train/patient00003/study1/...</td>\n",
       "      <td>Male</td>\n",
       "      <td>41</td>\n",
       "      <td>AP</td>\n",
       "      <td>0.0</td>\n",
       "      <td>Edema</td>\n",
       "    </tr>\n",
       "    <tr>\n",
       "      <th>9</th>\n",
       "      <td>CheXpert-v1.0-small/train/patient00005/study2/...</td>\n",
       "      <td>Male</td>\n",
       "      <td>33</td>\n",
       "      <td>AP</td>\n",
       "      <td>0.0</td>\n",
       "      <td>Pneumothorax</td>\n",
       "    </tr>\n",
       "    <tr>\n",
       "      <th>10</th>\n",
       "      <td>CheXpert-v1.0-small/train/patient00005/study2/...</td>\n",
       "      <td>Male</td>\n",
       "      <td>33</td>\n",
       "      <td>AP</td>\n",
       "      <td>0.0</td>\n",
       "      <td>Pneumothorax</td>\n",
       "    </tr>\n",
       "    <tr>\n",
       "      <th>24</th>\n",
       "      <td>CheXpert-v1.0-small/train/patient00011/study7/...</td>\n",
       "      <td>Female</td>\n",
       "      <td>19</td>\n",
       "      <td>AP</td>\n",
       "      <td>1.0</td>\n",
       "      <td>Lung Opacity</td>\n",
       "    </tr>\n",
       "    <tr>\n",
       "      <th>30</th>\n",
       "      <td>CheXpert-v1.0-small/train/patient00011/study8/...</td>\n",
       "      <td>Female</td>\n",
       "      <td>19</td>\n",
       "      <td>AP</td>\n",
       "      <td>1.0</td>\n",
       "      <td>Lung Opacity</td>\n",
       "    </tr>\n",
       "  </tbody>\n",
       "</table>\n",
       "</div>"
      ],
      "text/plain": [
       "                                                 Path     Sex  Age AP/PA  \\\n",
       "4   CheXpert-v1.0-small/train/patient00003/study1/...    Male   41    AP   \n",
       "9   CheXpert-v1.0-small/train/patient00005/study2/...    Male   33    AP   \n",
       "10  CheXpert-v1.0-small/train/patient00005/study2/...    Male   33    AP   \n",
       "24  CheXpert-v1.0-small/train/patient00011/study7/...  Female   19    AP   \n",
       "30  CheXpert-v1.0-small/train/patient00011/study8/...  Female   19    AP   \n",
       "\n",
       "    Support Devices        target  \n",
       "4               0.0         Edema  \n",
       "9               0.0  Pneumothorax  \n",
       "10              0.0  Pneumothorax  \n",
       "24              1.0  Lung Opacity  \n",
       "30              1.0  Lung Opacity  "
      ]
     },
     "execution_count": 57,
     "metadata": {},
     "output_type": "execute_result"
    }
   ],
   "source": [
    "df_nofindings[[\"Path\", \"Sex\", \"Age\", \"AP/PA\", \"Support Devices\", \"target\"]].fillna(0).head(5)"
   ]
  },
  {
   "cell_type": "code",
   "execution_count": 63,
   "metadata": {},
   "outputs": [
    {
     "data": {
      "text/plain": [
       "Support Devices\n",
       "1.0    93.243059\n",
       "0.0     6.756941\n",
       "Name: proportion, dtype: float64"
      ]
     },
     "execution_count": 63,
     "metadata": {},
     "output_type": "execute_result"
    }
   ],
   "source": [
    "df_nofindings[\"Support Devices\"].value_counts(normalize=True)*100"
   ]
  },
  {
   "cell_type": "code",
   "execution_count": 61,
   "metadata": {},
   "outputs": [
    {
     "data": {
      "text/plain": [
       "Sex\n",
       "Male      59.493217\n",
       "Female    40.506783\n",
       "Name: proportion, dtype: float64"
      ]
     },
     "execution_count": 61,
     "metadata": {},
     "output_type": "execute_result"
    }
   ],
   "source": [
    "df_nofindings[\"Sex\"].value_counts(normalize=True)*100"
   ]
  },
  {
   "cell_type": "code",
   "execution_count": null,
   "metadata": {},
   "outputs": [],
   "source": [
    "# TODO compare parameters from pretrained model and fine-tuned model"
   ]
  }
 ],
 "metadata": {
  "kernelspec": {
   "display_name": "llm_xai",
   "language": "python",
   "name": "python3"
  },
  "language_info": {
   "codemirror_mode": {
    "name": "ipython",
    "version": 3
   },
   "file_extension": ".py",
   "mimetype": "text/x-python",
   "name": "python",
   "nbconvert_exporter": "python",
   "pygments_lexer": "ipython3",
   "version": "3.9.18"
  }
 },
 "nbformat": 4,
 "nbformat_minor": 2
}
